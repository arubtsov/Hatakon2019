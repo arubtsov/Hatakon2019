{
 "cells": [
  {
   "cell_type": "code",
   "execution_count": 1,
   "metadata": {},
   "outputs": [
    {
     "name": "stderr",
     "output_type": "stream",
     "text": [
      "C:\\Users\\Rb3As\\Anaconda3\\lib\\site-packages\\h5py\\__init__.py:36: FutureWarning: Conversion of the second argument of issubdtype from `float` to `np.floating` is deprecated. In future, it will be treated as `np.float64 == np.dtype(float).type`.\n",
      "  from ._conv import register_converters as _register_converters\n",
      "Using TensorFlow backend.\n"
     ]
    }
   ],
   "source": [
    "import pandas as pd\n",
    "import numpy as np\n",
    "import re\n",
    "import os\n",
    "import tensorflow as tf\n",
    "import nltk\n",
    "import json\n",
    "\n",
    "from nltk.tokenize import word_tokenize\n",
    "from nltk.corpus import stopwords\n",
    "\n",
    "from keras.preprocessing.text import Tokenizer\n",
    "from keras.preprocessing.sequence import pad_sequences\n",
    "from keras.optimizers import Adam\n",
    "from keras.models import Model\n",
    "from keras.layers import Input, LSTM, Dense\n",
    "from keras.callbacks import TensorBoard, LambdaCallback\n",
    "\n",
    "from modeling.data import read_csv"
   ]
  },
  {
   "cell_type": "markdown",
   "metadata": {},
   "source": []
  },
  {
   "cell_type": "code",
   "execution_count": 2,
   "metadata": {},
   "outputs": [
    {
     "name": "stderr",
     "output_type": "stream",
     "text": [
      "C:\\Users\\Rb3As\\Anaconda3\\lib\\site-packages\\IPython\\core\\interactiveshell.py:2903: DtypeWarning: Columns (7) have mixed types. Specify dtype option on import or set low_memory=False.\n",
      "  if self.run_code(code, result):\n"
     ]
    },
    {
     "name": "stdout",
     "output_type": "stream",
     "text": [
      "Examples number: 124671\n"
     ]
    }
   ],
   "source": [
    "paragraphs, headlines, max_input_len, max_output_len = read_csv('./data/SubjectsQuestionsAllExtended.csv', 'Text', 'Subject', 75)"
   ]
  },
  {
   "cell_type": "code",
   "execution_count": 3,
   "metadata": {},
   "outputs": [],
   "source": [
    "def unique_chars (p_list):\n",
    "    return list(set((''.join([''.join(set(p)) for p in p_list]))))"
   ]
  },
  {
   "cell_type": "code",
   "execution_count": 4,
   "metadata": {},
   "outputs": [],
   "source": [
    "p_chars = unique_chars(paragraphs)\n",
    "h_chars = unique_chars(headlines)\n",
    "vocabulary = sorted(list(set(p_chars + h_chars)))"
   ]
  },
  {
   "cell_type": "code",
   "execution_count": 5,
   "metadata": {},
   "outputs": [],
   "source": [
    "token_index = dict(\n",
    "    [(char, i) for i, char in enumerate(vocabulary)])"
   ]
  },
  {
   "cell_type": "code",
   "execution_count": 6,
   "metadata": {},
   "outputs": [],
   "source": [
    "reverse_token_index = dict(\n",
    "    [(i, char) for char, i in token_index.items()])"
   ]
  },
  {
   "cell_type": "code",
   "execution_count": 7,
   "metadata": {},
   "outputs": [],
   "source": [
    "##parametes\n",
    "batch_size = 72\n",
    "vocab_size = len(vocabulary)\n",
    "latent_dim = 256\n",
    "num_examples = len(paragraphs)"
   ]
  },
  {
   "cell_type": "code",
   "execution_count": 8,
   "metadata": {},
   "outputs": [],
   "source": [
    "data = {}  \n",
    "data['vocabulary'] = vocabulary\n",
    "data['reverse_token_index'] = reverse_token_index\n",
    "data['token_index'] = token_index\n",
    "data['max_input_len'] = int(max_input_len)\n",
    "data['max_output_len'] = int(max_output_len)\n",
    "data['vocab_size'] = int(vocab_size)\n",
    "\n",
    "with open('./data/hyper-test.json', 'w') as outfile:  \n",
    "    json.dump(data, outfile)"
   ]
  },
  {
   "cell_type": "code",
   "execution_count": 9,
   "metadata": {},
   "outputs": [],
   "source": [
    "class DataGenerator:\n",
    "    def __init__(self, pars, heads):\n",
    "        self.pars = pars\n",
    "        self.heads = heads\n",
    "        self.max = len(pars) - 1\n",
    "        self.n = 0\n",
    "\n",
    "    def __next__(self):\n",
    "        start = self.n\n",
    "        end = self.n + batch_size\n",
    "        \n",
    "        encoder_input_data = np.zeros(\n",
    "            (batch_size, max_input_len, vocab_size),\n",
    "            dtype='float32')\n",
    "        decoder_input_data = np.zeros(\n",
    "            (batch_size, max_output_len, vocab_size),\n",
    "            dtype='float32')\n",
    "        decoder_target_data = np.zeros(\n",
    "            (batch_size, max_output_len, vocab_size),\n",
    "            dtype='float32')\n",
    "        \n",
    "        batch_paragraths = self.pars[start: end]\n",
    "        batch_headlines = self.heads[start: end]\n",
    "        \n",
    "        for i, (input_text, target_text) in enumerate(zip(batch_paragraths, batch_headlines)):\n",
    "            input_len = len(input_text)\n",
    "            target_len = len(target_text)\n",
    "            for t in range(input_len):\n",
    "                char = input_text[t]\n",
    "                encoder_input_data[i, t, token_index[char]] = 1\n",
    "            for t in range(target_len):\n",
    "                char = target_text[t]\n",
    "                # decoder_target_data is ahead of decoder_input_data by one timestep\n",
    "                decoder_input_data[i, t, token_index[char]] = 1.\n",
    "                if t > 0:\n",
    "                # decoder_target_data will be ahead by one timestep\n",
    "                # and will not include the start character.\n",
    "                    decoder_target_data[i, t - 1, token_index[char]] = 1\n",
    "                    \n",
    "        self.n = self.n + 1\n",
    "        \n",
    "        if self.n > self.max:\n",
    "            self.n = 0\n",
    "        \n",
    "        return ([encoder_input_data, decoder_input_data], decoder_target_data)"
   ]
  },
  {
   "cell_type": "code",
   "execution_count": 10,
   "metadata": {},
   "outputs": [
    {
     "name": "stdout",
     "output_type": "stream",
     "text": [
      "total examples number: 124671\n"
     ]
    }
   ],
   "source": [
    "# split data into train\\validation\n",
    "print('total examples number:', num_examples)\n",
    "\n",
    "split_index = int(num_examples * .95)\n",
    "\n",
    "valid_pars = paragraphs[split_index:]\n",
    "paragraphs = paragraphs[:split_index]\n",
    "\n",
    "valid_heads = headlines[split_index:]\n",
    "headlines = headlines[:split_index]"
   ]
  },
  {
   "cell_type": "code",
   "execution_count": 11,
   "metadata": {},
   "outputs": [],
   "source": [
    "train_generator = DataGenerator(paragraphs, headlines)\n",
    "valid_generator = DataGenerator(valid_pars, valid_heads)"
   ]
  },
  {
   "cell_type": "code",
   "execution_count": 12,
   "metadata": {},
   "outputs": [],
   "source": [
    "# # embedding data\n",
    "# docs = DataSet['Subject'].append(DataSet['Text'])\n"
   ]
  },
  {
   "cell_type": "code",
   "execution_count": 13,
   "metadata": {},
   "outputs": [],
   "source": [
    "# t = Tokenizer()\n",
    "# t.fit_on_texts(docs.values)\n",
    "# vocab_size = len(t.word_index) + 1\n",
    "# # integer encode the documents\n",
    "# encoded_docs = t.texts_to_sequences(docs)"
   ]
  },
  {
   "cell_type": "code",
   "execution_count": 14,
   "metadata": {},
   "outputs": [],
   "source": [
    "# # load the whole embedding into memory\n",
    "# embeddings_index = dict()\n",
    "# f = open('./data/glove.6B.100d.txt')\n",
    "# for line in f:\n",
    "#     values = line.split()\n",
    "#     word = values[0]\n",
    "#     coefs = asarray(values[1:], dtype='float32')\n",
    "#     embeddings_index[word] = coefs\n",
    "# f.close()"
   ]
  },
  {
   "cell_type": "code",
   "execution_count": 15,
   "metadata": {},
   "outputs": [],
   "source": [
    "# embedding_matrix = zeros((vocab_size, 100))\n",
    "# for word, i in t.word_index.items():\n",
    "#     embedding_vector = embeddings_index.get(word)\n",
    "#     if embedding_vector is not None:\n",
    "#         embedding_matrix[i] = embedding_vector"
   ]
  },
  {
   "cell_type": "code",
   "execution_count": 16,
   "metadata": {},
   "outputs": [],
   "source": [
    "# embedding_vocab_size = len(t.word_index) + 1\n",
    "# embedding = Embedding(embedding_vocab_size, 100, weights=[embedding_matrix], input_length=4, trainable=False)"
   ]
  },
  {
   "cell_type": "code",
   "execution_count": null,
   "metadata": {},
   "outputs": [],
   "source": []
  },
  {
   "cell_type": "code",
   "execution_count": 17,
   "metadata": {},
   "outputs": [
    {
     "name": "stdout",
     "output_type": "stream",
     "text": [
      "__________________________________________________________________________________________________\n",
      "Layer (type)                    Output Shape         Param #     Connected to                     \n",
      "==================================================================================================\n",
      "input_1 (InputLayer)            (None, None, 206)    0                                            \n",
      "__________________________________________________________________________________________________\n",
      "input_2 (InputLayer)            (None, None, 206)    0                                            \n",
      "__________________________________________________________________________________________________\n",
      "lstm_1 (LSTM)                   [(None, 256), (None, 474112      input_1[0][0]                    \n",
      "__________________________________________________________________________________________________\n",
      "lstm_2 (LSTM)                   [(None, None, 256),  474112      input_2[0][0]                    \n",
      "                                                                 lstm_1[0][1]                     \n",
      "                                                                 lstm_1[0][2]                     \n",
      "__________________________________________________________________________________________________\n",
      "dense_1 (Dense)                 (None, None, 206)    52942       lstm_2[0][0]                     \n",
      "==================================================================================================\n",
      "Total params: 1,001,166\n",
      "Trainable params: 1,001,166\n",
      "Non-trainable params: 0\n",
      "__________________________________________________________________________________________________\n"
     ]
    }
   ],
   "source": [
    "##Build model\n",
    "\n",
    "# Define an input sequence and process it.\n",
    "encoder_inputs = Input(shape=(None, vocab_size))\n",
    "encoder = LSTM(latent_dim, return_state=True)\n",
    "encoder_outputs, state_h, state_c = encoder(encoder_inputs)\n",
    "# We discard `encoder_outputs` and only keep the states.\n",
    "encoder_states = [state_h, state_c]\n",
    "\n",
    "# Set up the decoder, using `encoder_states` as initial state.\n",
    "decoder_inputs = Input(shape=(None, vocab_size))\n",
    "# We set up our decoder to return full output sequences,\n",
    "# and to return internal states as well. We don't use the\n",
    "# return states in the training model, but we will use them in inference.\n",
    "decoder_lstm = LSTM(latent_dim, return_sequences=True, return_state=True)\n",
    "decoder_outputs, _, _ = decoder_lstm(decoder_inputs,\n",
    "                                     initial_state=encoder_states)\n",
    "decoder_dense = Dense(vocab_size, activation='softmax')\n",
    "decoder_outputs = decoder_dense(decoder_outputs)\n",
    "\n",
    "# Define the model that will turn\n",
    "# `encoder_input_data` & `decoder_input_data` into `decoder_target_data`\n",
    "model = Model([encoder_inputs, decoder_inputs], decoder_outputs)\n",
    "\n",
    "fname = './data/main_model_test_weights.h5'\n",
    "\n",
    "if os.path.isfile(fname):\n",
    "    model.load_weights(fname)\n",
    "\n",
    "# Run training\n",
    "\n",
    "adam_optimiser = Adam(lr=0.0016, beta_1=0.9, beta_2=0.999, epsilon=None, decay=0.0, amsgrad=False)\n",
    "\n",
    "model.compile(optimizer=adam_optimiser, loss='categorical_crossentropy', metrics=['accuracy'])\n",
    "model.summary()"
   ]
  },
  {
   "cell_type": "code",
   "execution_count": 18,
   "metadata": {},
   "outputs": [],
   "source": [
    "# Define sampling models\n",
    "encoder_model = Model(encoder_inputs, encoder_states)\n",
    "\n",
    "decoder_state_input_h = Input(shape=(latent_dim,))\n",
    "decoder_state_input_c = Input(shape=(latent_dim,))\n",
    "decoder_states_inputs = [decoder_state_input_h, decoder_state_input_c]\n",
    "decoder_outputs, state_h, state_c = decoder_lstm(\n",
    "    decoder_inputs, initial_state=decoder_states_inputs)\n",
    "decoder_states = [state_h, state_c]\n",
    "decoder_outputs = decoder_dense(decoder_outputs)\n",
    "decoder_model = Model(\n",
    "    [decoder_inputs] + decoder_states_inputs,\n",
    "    [decoder_outputs] + decoder_states)"
   ]
  },
  {
   "cell_type": "code",
   "execution_count": 19,
   "metadata": {},
   "outputs": [],
   "source": [
    "def decode_sequence(input_seq):\n",
    "    # Encode the input as state vectors.\n",
    "    states_value = encoder_model.predict(input_seq)\n",
    "\n",
    "    # Generate empty target sequence of length 1.\n",
    "    target_seq = np.zeros((1, 1, vocab_size))\n",
    "    # Populate the first character of target sequence with the start character.\n",
    "    #target_seq[0, 0, token_index['\\t']] = 1.\n",
    "\n",
    "    # Sampling loop for a batch of sequences\n",
    "    # (to simplify, here we assume a batch of size 1).\n",
    "    stop_condition = False\n",
    "    decoded_sentence = ''\n",
    "    while not stop_condition:\n",
    "        output_tokens, h, c = decoder_model.predict(\n",
    "            [target_seq] + states_value)\n",
    "\n",
    "        # Sample a token\n",
    "        sampled_token_index = np.argmax(output_tokens[0, -1, :])\n",
    "        sampled_char = reverse_token_index[sampled_token_index]\n",
    "        decoded_sentence += sampled_char\n",
    "\n",
    "        # Exit condition: either hit max length\n",
    "        # or find stop character.\n",
    "        if (sampled_char == '\\n' or\n",
    "           len(decoded_sentence) > max_output_len):\n",
    "            stop_condition = True\n",
    "\n",
    "        # Update the target sequence (of length 1).\n",
    "        target_seq = np.zeros((1, 1, vocab_size))\n",
    "        target_seq[0, 0, sampled_token_index] = 1.\n",
    "\n",
    "        # Update states\n",
    "        states_value = [h, c]\n",
    "\n",
    "    return decoded_sentence"
   ]
  },
  {
   "cell_type": "code",
   "execution_count": 20,
   "metadata": {},
   "outputs": [],
   "source": [
    "def encode_string(text):\n",
    "    encoder_input_data = np.zeros(\n",
    "        (1, max_input_len, vocab_size),\n",
    "        dtype='float32')\n",
    "        \n",
    "    input_len = len(text)\n",
    "    \n",
    "    for t in range(max_input_len):\n",
    "        char = text[t] if t < input_len else ' '\n",
    "        encoder_input_data[0, t, token_index[char]] = 1\n",
    "        \n",
    "    return encoder_input_data\n",
    "def predict(text, truth):    \n",
    "    input_seq = encode_string(text)\n",
    "    decoded_sentence = decode_sequence(input_seq)\n",
    "    \n",
    "    print('-')\n",
    "    print('Input sentence:', text)\n",
    "    print('Ground truth:', truth)\n",
    "    print('Decoded sentence:', decoded_sentence)\n",
    "    \n",
    "sample = vocabulary[0]\n",
    "truth = headlines[0]"
   ]
  },
  {
   "cell_type": "code",
   "execution_count": 21,
   "metadata": {},
   "outputs": [],
   "source": [
    "class TrainValTensorBoard(TensorBoard):\n",
    "    def __init__(self, log_dir='./logs', **kwargs):\n",
    "        # Make the original `TensorBoard` log to a subdirectory 'training'\n",
    "        training_log_dir = os.path.join(log_dir, 'training')\n",
    "        super(TrainValTensorBoard, self).__init__(training_log_dir, **kwargs)\n",
    "\n",
    "        # Log the validation metrics to a separate subdirectory\n",
    "        self.val_log_dir = os.path.join(log_dir, 'validation')\n",
    "\n",
    "    def set_model(self, model):\n",
    "        # Setup writer for validation metrics\n",
    "        self.val_writer = tf.summary.FileWriter(self.val_log_dir)\n",
    "        super(TrainValTensorBoard, self).set_model(model)\n",
    "\n",
    "    def on_epoch_end(self, epoch, logs=None):\n",
    "        # Pop the validation logs and handle them separately with\n",
    "        # `self.val_writer`. Also rename the keys so that they can\n",
    "        # be plotted on the same figure with the training metrics\n",
    "        logs = logs or {}\n",
    "        val_logs = {k.replace('val_', ''): v for k, v in logs.items() if k.startswith('val_')}\n",
    "        for name, value in val_logs.items():\n",
    "            summary = tf.Summary()\n",
    "            summary_value = summary.value.add()\n",
    "            summary_value.simple_value = value.item()\n",
    "            summary_value.tag = name\n",
    "            self.val_writer.add_summary(summary, epoch)\n",
    "        self.val_writer.flush()\n",
    "\n",
    "        # Pass the remaining logs to `TensorBoard.on_epoch_end`\n",
    "        logs = {k: v for k, v in logs.items() if not k.startswith('val_')}\n",
    "        super(TrainValTensorBoard, self).on_epoch_end(epoch, logs)\n",
    "\n",
    "    def on_train_end(self, logs=None):\n",
    "        super(TrainValTensorBoard, self).on_train_end(logs)\n",
    "        self.val_writer.close()"
   ]
  },
  {
   "cell_type": "code",
   "execution_count": 22,
   "metadata": {},
   "outputs": [],
   "source": [
    "## Callbacks\n",
    "def save_models ():\n",
    "    encoder_model.save('./data/encoder-model-test.h5')\n",
    "    decoder_model.save('./data/decoder-model-test.h5')\n",
    "    model.save_weights(fname)\n",
    "    print(predict(paragraphs[0], truth))\n",
    "    \n",
    "checkpoint = LambdaCallback(on_epoch_end=lambda epoch, logs: save_models())\n",
    "tbCallBack = TrainValTensorBoard(log_dir='Graph-test', histogram_freq=0, write_graph=True, write_images=True)"
   ]
  },
  {
   "cell_type": "code",
   "execution_count": null,
   "metadata": {},
   "outputs": [
    {
     "name": "stdout",
     "output_type": "stream",
     "text": [
      "Epoch 1/50\n",
      "22/30 [=====================>........] - ETA: 1:04 - loss: 1.3093 - acc: 0.0617"
     ]
    }
   ],
   "source": [
    "history = model.fit_generator(train_generator,\n",
    "                    steps_per_epoch=30,\n",
    "                    epochs=50,\n",
    "                    validation_data=valid_generator,\n",
    "                    validation_steps=15,\n",
    "                    callbacks=[checkpoint, tbCallBack])"
   ]
  },
  {
   "cell_type": "code",
   "execution_count": null,
   "metadata": {},
   "outputs": [],
   "source": [
    "import matplotlib.pyplot as plt\n",
    "\n",
    "# # Plot training & validation accuracy values\n",
    "# plt.plot(history.history['acc'])\n",
    "# plt.plot(history.history['val_acc'])\n",
    "# plt.title('Model accuracy')\n",
    "# plt.ylabel('Accuracy')\n",
    "# plt.xlabel('Epoch')\n",
    "# plt.legend(['Train', 'Test'], loc='upper left')\n",
    "# plt.show()\n",
    "\n",
    "# Plot training & validation loss values\n",
    "plt.plot(history.history['loss'])\n",
    "plt.plot(history.history['val_loss'])\n",
    "plt.title('Model loss')\n",
    "plt.ylabel('Loss')\n",
    "plt.xlabel('Epoch')\n",
    "plt.legend(['Train', 'Test'], loc='upper left')\n",
    "plt.show()"
   ]
  },
  {
   "cell_type": "code",
   "execution_count": null,
   "metadata": {},
   "outputs": [],
   "source": []
  },
  {
   "cell_type": "code",
   "execution_count": null,
   "metadata": {},
   "outputs": [],
   "source": [
    "# examples = train_generator.__next__()\n",
    "# ([encoder_input_data, decoder_input_data], decoder_target_data) = examples\n",
    "# for i in range(10):    \n",
    "#     # Take one sequence (part of the training set)\n",
    "#     # for trying out decoding.\n",
    "    \n",
    "#     input_seq = encoder_input_data[i: i + 1]\n",
    "#     decoded_sentence = decode_sequence(input_seq)\n",
    "#     print('-')\n",
    "#     print('Input sentence:', paragraphs[train_generator.n + i])\n",
    "#     print('Decoded sentence:', decoded_sentence)"
   ]
  },
  {
   "cell_type": "code",
   "execution_count": null,
   "metadata": {},
   "outputs": [],
   "source": [
    "for i in range(100, 120):\n",
    "    predict(paragraphs[i], headlines[i])"
   ]
  },
  {
   "cell_type": "code",
   "execution_count": null,
   "metadata": {},
   "outputs": [],
   "source": []
  }
 ],
 "metadata": {
  "kernelspec": {
   "display_name": "Python 3",
   "language": "python",
   "name": "python3"
  },
  "language_info": {
   "codemirror_mode": {
    "name": "ipython",
    "version": 3
   },
   "file_extension": ".py",
   "mimetype": "text/x-python",
   "name": "python",
   "nbconvert_exporter": "python",
   "pygments_lexer": "ipython3",
   "version": "3.6.6"
  }
 },
 "nbformat": 4,
 "nbformat_minor": 2
}
