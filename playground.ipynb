{
 "cells": [
  {
   "cell_type": "code",
   "execution_count": 1,
   "metadata": {},
   "outputs": [
    {
     "name": "stderr",
     "output_type": "stream",
     "text": [
      "C:\\Users\\Rb3As\\Anaconda3\\lib\\site-packages\\h5py\\__init__.py:36: FutureWarning: Conversion of the second argument of issubdtype from `float` to `np.floating` is deprecated. In future, it will be treated as `np.float64 == np.dtype(float).type`.\n",
      "  from ._conv import register_converters as _register_converters\n",
      "Using TensorFlow backend.\n"
     ]
    }
   ],
   "source": [
    "import pandas as pd\n",
    "import numpy as np\n",
    "import re\n",
    "import os\n",
    "import tensorflow as tf\n",
    "import nltk\n",
    "import json\n",
    "\n",
    "from nltk.tokenize import word_tokenize\n",
    "from nltk.corpus import stopwords\n",
    "\n",
    "from keras.preprocessing.text import Tokenizer\n",
    "from keras.preprocessing.sequence import pad_sequences\n",
    "from keras.optimizers import Adam\n",
    "from keras.models import Model\n",
    "from keras.layers import Input, LSTM, Dense\n",
    "from keras.callbacks import TensorBoard, LambdaCallback"
   ]
  },
  {
   "cell_type": "markdown",
   "metadata": {},
   "source": []
  },
  {
   "cell_type": "code",
   "execution_count": 2,
   "metadata": {},
   "outputs": [
    {
     "name": "stderr",
     "output_type": "stream",
     "text": [
      "C:\\Users\\Rb3As\\Anaconda3\\lib\\site-packages\\IPython\\core\\interactiveshell.py:2785: DtypeWarning: Columns (7) have mixed types. Specify dtype option on import or set low_memory=False.\n",
      "  interactivity=interactivity, compiler=compiler, result=result)\n"
     ]
    }
   ],
   "source": [
    "DataSet = pd.read_csv('./data/SubjectsQuestionsAllExtended.csv', encoding=\"ansi\")"
   ]
  },
  {
   "cell_type": "code",
   "execution_count": 3,
   "metadata": {},
   "outputs": [],
   "source": [
    "col_list = ['Text', 'Subject']\n",
    "DataSet = DataSet[col_list]"
   ]
  },
  {
   "cell_type": "code",
   "execution_count": 4,
   "metadata": {},
   "outputs": [
    {
     "name": "stdout",
     "output_type": "stream",
     "text": [
      "166228\n",
      "166228\n"
     ]
    }
   ],
   "source": [
    "print(len(DataSet))\n",
    "DataSet.dropna(inplace=True)\n",
    "print(len(DataSet))"
   ]
  },
  {
   "cell_type": "code",
   "execution_count": 5,
   "metadata": {},
   "outputs": [],
   "source": [
    "## remove html\n",
    "def clean (col_name):\n",
    "    DataSet[col_name] = DataSet[col_name].str.replace('<br>', ' ')\n",
    "    DataSet[col_name] = DataSet[col_name].str.replace('<br />', ' ')\n",
    "    DataSet[col_name] = DataSet[col_name].apply(lambda x: re.sub('<[^<]+?>', ' ', x))\n",
    "    DataSet[col_name] = DataSet[col_name].str.replace('&nbsp;', ' ')\n",
    "    DataSet[col_name] = DataSet[col_name].str.replace('\\n', ' ')\n",
    "    DataSet[col_name] = DataSet[col_name].str.replace('\\t', ' ')\n",
    "    DataSet[col_name] = DataSet[col_name].str.strip()\n",
    "    \n",
    "clean('Text')\n",
    "clean('Subject')"
   ]
  },
  {
   "cell_type": "code",
   "execution_count": 6,
   "metadata": {},
   "outputs": [],
   "source": [
    "DataSet['Subject'] = '\\t'+ DataSet['Subject'] + '\\n'\n",
    "DataSet.index = DataSet['Subject'].str.len()\n",
    "DataSet = DataSet.sort_index(ascending=False).reset_index(drop=True)"
   ]
  },
  {
   "cell_type": "code",
   "execution_count": 7,
   "metadata": {},
   "outputs": [],
   "source": [
    "n = 75\n",
    "DataSet = DataSet.head(int(len(DataSet)*(n/100)))"
   ]
  },
  {
   "cell_type": "code",
   "execution_count": 8,
   "metadata": {},
   "outputs": [
    {
     "data": {
      "text/html": [
       "<div>\n",
       "<style scoped>\n",
       "    .dataframe tbody tr th:only-of-type {\n",
       "        vertical-align: middle;\n",
       "    }\n",
       "\n",
       "    .dataframe tbody tr th {\n",
       "        vertical-align: top;\n",
       "    }\n",
       "\n",
       "    .dataframe thead th {\n",
       "        text-align: right;\n",
       "    }\n",
       "</style>\n",
       "<table border=\"1\" class=\"dataframe\">\n",
       "  <thead>\n",
       "    <tr style=\"text-align: right;\">\n",
       "      <th></th>\n",
       "      <th>Text</th>\n",
       "      <th>Subject</th>\n",
       "    </tr>\n",
       "  </thead>\n",
       "  <tbody>\n",
       "    <tr>\n",
       "      <th>0</th>\n",
       "      <td>For green series only exists values for month ...</td>\n",
       "      <td>\\tChart View - The line, area, and stacked are...</td>\n",
       "    </tr>\n",
       "    <tr>\n",
       "      <th>1</th>\n",
       "      <td>For green series only exists values for month ...</td>\n",
       "      <td>\\tChart View - The line, area, and stacked are...</td>\n",
       "    </tr>\n",
       "    <tr>\n",
       "      <th>2</th>\n",
       "      <td>Hello,  I have an issue with the Report Server...</td>\n",
       "      <td>\\tReport Server - the \"Attempt by method DevEx...</td>\n",
       "    </tr>\n",
       "    <tr>\n",
       "      <th>3</th>\n",
       "      <td>Hello,  I have an issue with the Report Server...</td>\n",
       "      <td>\\tReport Server - the \"Attempt by method DevEx...</td>\n",
       "    </tr>\n",
       "    <tr>\n",
       "      <th>4</th>\n",
       "      <td>I'm getting a visual bug where the contents of...</td>\n",
       "      <td>\\tTable and Banded Table Views - Master-Detail...</td>\n",
       "    </tr>\n",
       "  </tbody>\n",
       "</table>\n",
       "</div>"
      ],
      "text/plain": [
       "                                                Text  \\\n",
       "0  For green series only exists values for month ...   \n",
       "1  For green series only exists values for month ...   \n",
       "2  Hello,  I have an issue with the Report Server...   \n",
       "3  Hello,  I have an issue with the Report Server...   \n",
       "4  I'm getting a visual bug where the contents of...   \n",
       "\n",
       "                                             Subject  \n",
       "0  \\tChart View - The line, area, and stacked are...  \n",
       "1  \\tChart View - The line, area, and stacked are...  \n",
       "2  \\tReport Server - the \"Attempt by method DevEx...  \n",
       "3  \\tReport Server - the \"Attempt by method DevEx...  \n",
       "4  \\tTable and Banded Table Views - Master-Detail...  "
      ]
     },
     "execution_count": 8,
     "metadata": {},
     "output_type": "execute_result"
    }
   ],
   "source": [
    "DataSet.head()"
   ]
  },
  {
   "cell_type": "code",
   "execution_count": 9,
   "metadata": {},
   "outputs": [],
   "source": [
    "max_input_len = DataSet['Text'].str.len().max()\n",
    "max_output_len = DataSet['Subject'].str.len().max()"
   ]
  },
  {
   "cell_type": "code",
   "execution_count": 10,
   "metadata": {},
   "outputs": [
    {
     "data": {
      "text/plain": [
       "252"
      ]
     },
     "execution_count": 10,
     "metadata": {},
     "output_type": "execute_result"
    }
   ],
   "source": [
    "max_output_len"
   ]
  },
  {
   "cell_type": "code",
   "execution_count": 11,
   "metadata": {},
   "outputs": [],
   "source": [
    "paragraphs = DataSet['Text'].values\n",
    "headlines = DataSet['Subject'].values"
   ]
  },
  {
   "cell_type": "code",
   "execution_count": 12,
   "metadata": {},
   "outputs": [],
   "source": [
    "def unique_chars (p_list):\n",
    "    return list(set((''.join([''.join(set(p)) for p in p_list]))))"
   ]
  },
  {
   "cell_type": "code",
   "execution_count": 13,
   "metadata": {},
   "outputs": [],
   "source": [
    "p_chars = unique_chars(paragraphs)\n",
    "h_chars = unique_chars(headlines)\n",
    "vocabulary = sorted(list(set(p_chars + h_chars)))"
   ]
  },
  {
   "cell_type": "code",
   "execution_count": 14,
   "metadata": {},
   "outputs": [],
   "source": [
    "token_index = dict(\n",
    "    [(char, i) for i, char in enumerate(vocabulary)])"
   ]
  },
  {
   "cell_type": "code",
   "execution_count": 15,
   "metadata": {},
   "outputs": [],
   "source": [
    "reverse_token_index = dict(\n",
    "    (i, char) for char, i in token_index.items())"
   ]
  },
  {
   "cell_type": "code",
   "execution_count": 16,
   "metadata": {},
   "outputs": [],
   "source": [
    "##parametes\n",
    "batch_size = 72\n",
    "vocab_size = len(vocabulary)\n",
    "latent_dim = 256\n",
    "num_examples = len(paragraphs)"
   ]
  },
  {
   "cell_type": "code",
   "execution_count": 17,
   "metadata": {},
   "outputs": [],
   "source": [
    "data = {}  \n",
    "data['vocabulary'] = vocabulary\n",
    "data['reverse_token_index'] = reverse_token_index\n",
    "data['token_index'] = token_index\n",
    "data['max_input_len'] = int(max_input_len)\n",
    "data['max_output_len'] = int(max_output_len)\n",
    "data['vocab_size'] = int(vocab_size)\n",
    "\n",
    "with open('./data/hyper-ascending-2.json', 'w') as outfile:  \n",
    "    json.dump(data, outfile)"
   ]
  },
  {
   "cell_type": "code",
   "execution_count": 18,
   "metadata": {},
   "outputs": [],
   "source": [
    "class DataGenerator:\n",
    "    def __init__(self, pars, heads):\n",
    "        self.pars = pars\n",
    "        self.heads = heads\n",
    "        self.max = len(pars) - 1\n",
    "        self.n = 0\n",
    "\n",
    "    def __next__(self):\n",
    "        start = self.n\n",
    "        end = self.n + batch_size\n",
    "        \n",
    "        encoder_input_data = np.zeros(\n",
    "            (batch_size, max_input_len, vocab_size),\n",
    "            dtype='float32')\n",
    "        decoder_input_data = np.zeros(\n",
    "            (batch_size, max_output_len, vocab_size),\n",
    "            dtype='float32')\n",
    "        decoder_target_data = np.zeros(\n",
    "            (batch_size, max_output_len, vocab_size),\n",
    "            dtype='float32')\n",
    "        \n",
    "        batch_paragraths = self.pars[start: end]\n",
    "        batch_headlines = self.heads[start: end]\n",
    "        \n",
    "        for i, (input_text, target_text) in enumerate(zip(batch_paragraths, batch_headlines)):\n",
    "            input_len = len(input_text)\n",
    "            target_len = len(target_text)\n",
    "            for t in range(input_len):\n",
    "                char = input_text[t]\n",
    "                encoder_input_data[i, t, token_index[char]] = 1\n",
    "            for t in range(target_len):\n",
    "                char = target_text[t]\n",
    "                # decoder_target_data is ahead of decoder_input_data by one timestep\n",
    "                decoder_input_data[i, t, token_index[char]] = 1.\n",
    "                if t > 0:\n",
    "                # decoder_target_data will be ahead by one timestep\n",
    "                # and will not include the start character.\n",
    "                    decoder_target_data[i, t - 1, token_index[char]] = 1\n",
    "                    \n",
    "        self.n = self.n + 1\n",
    "        \n",
    "        if self.n > self.max:\n",
    "            self.n = 0\n",
    "        \n",
    "        return ([encoder_input_data, decoder_input_data], decoder_target_data)"
   ]
  },
  {
   "cell_type": "code",
   "execution_count": 19,
   "metadata": {},
   "outputs": [
    {
     "name": "stdout",
     "output_type": "stream",
     "text": [
      "total examples number: 124671\n"
     ]
    }
   ],
   "source": [
    "# split data into train\\validation\n",
    "print('total examples number:', num_examples)\n",
    "\n",
    "split_index = int(num_examples * .95)\n",
    "\n",
    "valid_pars = paragraphs[split_index:]\n",
    "paragraphs = paragraphs[:split_index]\n",
    "\n",
    "valid_heads = headlines[split_index:]\n",
    "headlines = headlines[:split_index]"
   ]
  },
  {
   "cell_type": "code",
   "execution_count": 20,
   "metadata": {},
   "outputs": [],
   "source": [
    "train_generator = DataGenerator(paragraphs, headlines)\n",
    "valid_generator = DataGenerator(valid_pars, valid_heads)"
   ]
  },
  {
   "cell_type": "code",
   "execution_count": 21,
   "metadata": {},
   "outputs": [],
   "source": [
    "# # embedding data\n",
    "# docs = DataSet['Subject'].append(DataSet['Text'])\n"
   ]
  },
  {
   "cell_type": "code",
   "execution_count": 22,
   "metadata": {},
   "outputs": [],
   "source": [
    "# t = Tokenizer()\n",
    "# t.fit_on_texts(docs.values)\n",
    "# vocab_size = len(t.word_index) + 1\n",
    "# # integer encode the documents\n",
    "# encoded_docs = t.texts_to_sequences(docs)"
   ]
  },
  {
   "cell_type": "code",
   "execution_count": 23,
   "metadata": {},
   "outputs": [],
   "source": [
    "# # load the whole embedding into memory\n",
    "# embeddings_index = dict()\n",
    "# f = open('./data/glove.6B.100d.txt')\n",
    "# for line in f:\n",
    "#     values = line.split()\n",
    "#     word = values[0]\n",
    "#     coefs = asarray(values[1:], dtype='float32')\n",
    "#     embeddings_index[word] = coefs\n",
    "# f.close()"
   ]
  },
  {
   "cell_type": "code",
   "execution_count": 24,
   "metadata": {},
   "outputs": [],
   "source": [
    "# embedding_matrix = zeros((vocab_size, 100))\n",
    "# for word, i in t.word_index.items():\n",
    "#     embedding_vector = embeddings_index.get(word)\n",
    "#     if embedding_vector is not None:\n",
    "#         embedding_matrix[i] = embedding_vector"
   ]
  },
  {
   "cell_type": "code",
   "execution_count": 25,
   "metadata": {},
   "outputs": [],
   "source": [
    "# embedding_vocab_size = len(t.word_index) + 1\n",
    "# embedding = Embedding(embedding_vocab_size, 100, weights=[embedding_matrix], input_length=4, trainable=False)"
   ]
  },
  {
   "cell_type": "code",
   "execution_count": null,
   "metadata": {},
   "outputs": [],
   "source": []
  },
  {
   "cell_type": "code",
   "execution_count": 26,
   "metadata": {},
   "outputs": [
    {
     "name": "stdout",
     "output_type": "stream",
     "text": [
      "__________________________________________________________________________________________________\n",
      "Layer (type)                    Output Shape         Param #     Connected to                     \n",
      "==================================================================================================\n",
      "input_1 (InputLayer)            (None, None, 229)    0                                            \n",
      "__________________________________________________________________________________________________\n",
      "input_2 (InputLayer)            (None, None, 229)    0                                            \n",
      "__________________________________________________________________________________________________\n",
      "lstm_1 (LSTM)                   [(None, 256), (None, 497664      input_1[0][0]                    \n",
      "__________________________________________________________________________________________________\n",
      "lstm_2 (LSTM)                   [(None, None, 256),  497664      input_2[0][0]                    \n",
      "                                                                 lstm_1[0][1]                     \n",
      "                                                                 lstm_1[0][2]                     \n",
      "__________________________________________________________________________________________________\n",
      "dense_1 (Dense)                 (None, None, 229)    58853       lstm_2[0][0]                     \n",
      "==================================================================================================\n",
      "Total params: 1,054,181\n",
      "Trainable params: 1,054,181\n",
      "Non-trainable params: 0\n",
      "__________________________________________________________________________________________________\n"
     ]
    }
   ],
   "source": [
    "##Build model\n",
    "\n",
    "# Define an input sequence and process it.\n",
    "encoder_inputs = Input(shape=(None, vocab_size))\n",
    "encoder = LSTM(latent_dim, return_state=True)\n",
    "encoder_outputs, state_h, state_c = encoder(encoder_inputs)\n",
    "# We discard `encoder_outputs` and only keep the states.\n",
    "encoder_states = [state_h, state_c]\n",
    "\n",
    "# Set up the decoder, using `encoder_states` as initial state.\n",
    "decoder_inputs = Input(shape=(None, vocab_size))\n",
    "# We set up our decoder to return full output sequences,\n",
    "# and to return internal states as well. We don't use the\n",
    "# return states in the training model, but we will use them in inference.\n",
    "decoder_lstm = LSTM(latent_dim, return_sequences=True, return_state=True)\n",
    "decoder_outputs, _, _ = decoder_lstm(decoder_inputs,\n",
    "                                     initial_state=encoder_states)\n",
    "decoder_dense = Dense(vocab_size, activation='softmax')\n",
    "decoder_outputs = decoder_dense(decoder_outputs)\n",
    "\n",
    "# Define the model that will turn\n",
    "# `encoder_input_data` & `decoder_input_data` into `decoder_target_data`\n",
    "model = Model([encoder_inputs, decoder_inputs], decoder_outputs)\n",
    "\n",
    "fname = './data/main_model_ascending_21_weights.h5'\n",
    "\n",
    "if os.path.isfile(fname):\n",
    "    model.load_weights(fname)\n",
    "\n",
    "# Run training\n",
    "\n",
    "adam_optimiser = Adam(lr=0.0016, beta_1=0.9, beta_2=0.999, epsilon=None, decay=0.0, amsgrad=False)\n",
    "\n",
    "model.compile(optimizer=adam_optimiser, loss='categorical_crossentropy', metrics=['accuracy'])\n",
    "model.summary()"
   ]
  },
  {
   "cell_type": "code",
   "execution_count": 27,
   "metadata": {},
   "outputs": [],
   "source": [
    "# Define sampling models\n",
    "encoder_model = Model(encoder_inputs, encoder_states)\n",
    "\n",
    "decoder_state_input_h = Input(shape=(latent_dim,))\n",
    "decoder_state_input_c = Input(shape=(latent_dim,))\n",
    "decoder_states_inputs = [decoder_state_input_h, decoder_state_input_c]\n",
    "decoder_outputs, state_h, state_c = decoder_lstm(\n",
    "    decoder_inputs, initial_state=decoder_states_inputs)\n",
    "decoder_states = [state_h, state_c]\n",
    "decoder_outputs = decoder_dense(decoder_outputs)\n",
    "decoder_model = Model(\n",
    "    [decoder_inputs] + decoder_states_inputs,\n",
    "    [decoder_outputs] + decoder_states)"
   ]
  },
  {
   "cell_type": "code",
   "execution_count": 28,
   "metadata": {},
   "outputs": [],
   "source": [
    "def decode_sequence(input_seq):\n",
    "    # Encode the input as state vectors.\n",
    "    states_value = encoder_model.predict(input_seq)\n",
    "\n",
    "    # Generate empty target sequence of length 1.\n",
    "    target_seq = np.zeros((1, 1, vocab_size))\n",
    "    # Populate the first character of target sequence with the start character.\n",
    "    #target_seq[0, 0, token_index['\\t']] = 1.\n",
    "\n",
    "    # Sampling loop for a batch of sequences\n",
    "    # (to simplify, here we assume a batch of size 1).\n",
    "    stop_condition = False\n",
    "    decoded_sentence = ''\n",
    "    while not stop_condition:\n",
    "        output_tokens, h, c = decoder_model.predict(\n",
    "            [target_seq] + states_value)\n",
    "\n",
    "        # Sample a token\n",
    "        sampled_token_index = np.argmax(output_tokens[0, -1, :])\n",
    "        sampled_char = reverse_token_index[sampled_token_index]\n",
    "        decoded_sentence += sampled_char\n",
    "\n",
    "        # Exit condition: either hit max length\n",
    "        # or find stop character.\n",
    "        if (sampled_char == '\\n' or\n",
    "           len(decoded_sentence) > max_output_len):\n",
    "            stop_condition = True\n",
    "\n",
    "        # Update the target sequence (of length 1).\n",
    "        target_seq = np.zeros((1, 1, vocab_size))\n",
    "        target_seq[0, 0, sampled_token_index] = 1.\n",
    "\n",
    "        # Update states\n",
    "        states_value = [h, c]\n",
    "\n",
    "    return decoded_sentence"
   ]
  },
  {
   "cell_type": "code",
   "execution_count": 29,
   "metadata": {},
   "outputs": [],
   "source": [
    "def encode_string(text):\n",
    "    encoder_input_data = np.zeros(\n",
    "        (1, max_input_len, vocab_size),\n",
    "        dtype='float32')\n",
    "        \n",
    "    input_len = len(text)\n",
    "    \n",
    "    for t in range(max_input_len):\n",
    "        char = text[t] if t < input_len else ' '\n",
    "        encoder_input_data[0, t, token_index[char]] = 1\n",
    "        \n",
    "    return encoder_input_data\n",
    "def predict(text, truth):    \n",
    "    input_seq = encode_string(text)\n",
    "    decoded_sentence = decode_sequence(input_seq)\n",
    "    \n",
    "    print('-')\n",
    "    print('Input sentence:', text)\n",
    "    print('Ground truth:', truth)\n",
    "    print('Decoded sentence:', decoded_sentence)\n",
    "    \n",
    "sample = vocabulary[0]\n",
    "truth = headlines[0]"
   ]
  },
  {
   "cell_type": "code",
   "execution_count": 30,
   "metadata": {},
   "outputs": [],
   "source": [
    "class TrainValTensorBoard(TensorBoard):\n",
    "    def __init__(self, log_dir='./logs', **kwargs):\n",
    "        # Make the original `TensorBoard` log to a subdirectory 'training'\n",
    "        training_log_dir = os.path.join(log_dir, 'training')\n",
    "        super(TrainValTensorBoard, self).__init__(training_log_dir, **kwargs)\n",
    "\n",
    "        # Log the validation metrics to a separate subdirectory\n",
    "        self.val_log_dir = os.path.join(log_dir, 'validation')\n",
    "\n",
    "    def set_model(self, model):\n",
    "        # Setup writer for validation metrics\n",
    "        self.val_writer = tf.summary.FileWriter(self.val_log_dir)\n",
    "        super(TrainValTensorBoard, self).set_model(model)\n",
    "\n",
    "    def on_epoch_end(self, epoch, logs=None):\n",
    "        # Pop the validation logs and handle them separately with\n",
    "        # `self.val_writer`. Also rename the keys so that they can\n",
    "        # be plotted on the same figure with the training metrics\n",
    "        logs = logs or {}\n",
    "        val_logs = {k.replace('val_', ''): v for k, v in logs.items() if k.startswith('val_')}\n",
    "        for name, value in val_logs.items():\n",
    "            summary = tf.Summary()\n",
    "            summary_value = summary.value.add()\n",
    "            summary_value.simple_value = value.item()\n",
    "            summary_value.tag = name\n",
    "            self.val_writer.add_summary(summary, epoch)\n",
    "        self.val_writer.flush()\n",
    "\n",
    "        # Pass the remaining logs to `TensorBoard.on_epoch_end`\n",
    "        logs = {k: v for k, v in logs.items() if not k.startswith('val_')}\n",
    "        super(TrainValTensorBoard, self).on_epoch_end(epoch, logs)\n",
    "\n",
    "    def on_train_end(self, logs=None):\n",
    "        super(TrainValTensorBoard, self).on_train_end(logs)\n",
    "        self.val_writer.close()"
   ]
  },
  {
   "cell_type": "code",
   "execution_count": 31,
   "metadata": {},
   "outputs": [],
   "source": [
    "## Callbacks\n",
    "def save_models ():\n",
    "    encoder_model.save('./data/encoder-model-ascending-2.h5')\n",
    "    decoder_model.save('./data/decoder-model-ascending-2.h5')\n",
    "    model.save_weights(fname)\n",
    "    print(predict(paragraphs[0], truth))\n",
    "    \n",
    "checkpoint = LambdaCallback(on_epoch_end=lambda epoch, logs: save_models())\n",
    "tbCallBack = TrainValTensorBoard(log_dir='./Graph-ascending-2', histogram_freq=0, write_graph=True, write_images=True)"
   ]
  },
  {
   "cell_type": "code",
   "execution_count": 32,
   "metadata": {},
   "outputs": [
    {
     "name": "stdout",
     "output_type": "stream",
     "text": [
      "Epoch 1/50\n",
      "30/30 [==============================] - 279s 9s/step - loss: 2.1462 - acc: 0.3879 - val_loss: 0.5598 - val_acc: 0.0810\n"
     ]
    },
    {
     "name": "stderr",
     "output_type": "stream",
     "text": [
      "C:\\Users\\Rb3As\\Anaconda3\\lib\\site-packages\\keras\\engine\\network.py:872: UserWarning: Layer lstm_2 was passed non-serializable keyword arguments: {'initial_state': [<tf.Tensor 'input_3:0' shape=(?, 256) dtype=float32>, <tf.Tensor 'input_4:0' shape=(?, 256) dtype=float32>]}. They will not be included in the serialized model (and thus will be missing at deserialization time).\n",
      "  '. They will not be included '\n"
     ]
    },
    {
     "name": "stdout",
     "output_type": "stream",
     "text": [
      "-\n",
      "Input sentence: For green series only exists values for month 1-3.  Have set already DiagramLine.EmptyPointsDisplayMode := epdmGap .  I don't know how to suppress drawing  the rest of this series.\n",
      "Ground truth: \tChart View - The line, area, and stacked area diagrams containing one or more data groups and series whose GroupSummaryKind property is set to skCount, skAverage, or skSum ignore the epdmGap option set to the diagram's EmptyPointsDisplayMode property\n",
      "\n",
      "Decoded sentence: ASPxGridView - The The The ASPxGridView in the the the the the the the the the the the the the the the the the the the the the the the the the the the the the the the the the the the the the the the the the the the the the the the the the the the the th\n",
      "None\n",
      "Epoch 2/50\n",
      "30/30 [==============================] - 272s 9s/step - loss: 1.9398 - acc: 0.4120 - val_loss: 0.5661 - val_acc: 0.0819\n",
      "-\n",
      "Input sentence: For green series only exists values for month 1-3.  Have set already DiagramLine.EmptyPointsDisplayMode := epdmGap .  I don't know how to suppress drawing  the rest of this series.\n",
      "Ground truth: \tChart View - The line, area, and stacked area diagrams containing one or more data groups and series whose GroupSummaryKind property is set to skCount, skAverage, or skSum ignore the epdmGap option set to the diagram's EmptyPointsDisplayMode property\n",
      "\n",
      "Decoded sentence: ASPxGridView - The \"The the property is the the property is the the property is the the property is the the property is the the property is the the property is the the property is the the property is the the property is the the property is the the prope\n",
      "None\n",
      "Epoch 3/50\n",
      "30/30 [==============================] - 275s 9s/step - loss: 1.8182 - acc: 0.4214 - val_loss: 0.5630 - val_acc: 0.0838\n",
      "-\n",
      "Input sentence: For green series only exists values for month 1-3.  Have set already DiagramLine.EmptyPointsDisplayMode := epdmGap .  I don't know how to suppress drawing  the rest of this series.\n",
      "Ground truth: \tChart View - The line, area, and stacked area diagrams containing one or more data groups and series whose GroupSummaryKind property is set to skCount, skAverage, or skSum ignore the epdmGap option set to the diagram's EmptyPointsDisplayMode property\n",
      "\n",
      "Decoded sentence: ASPxGridView - The \"The the property is the the property is the the property is the the property is the the property is the the property is the the property is the the property is the the property is the the property is the the property is the the prope\n",
      "None\n",
      "Epoch 4/50\n",
      "30/30 [==============================] - 282s 9s/step - loss: 1.8730 - acc: 0.3941 - val_loss: 0.5745 - val_acc: 0.0815\n",
      "-\n",
      "Input sentence: For green series only exists values for month 1-3.  Have set already DiagramLine.EmptyPointsDisplayMode := epdmGap .  I don't know how to suppress drawing  the rest of this series.\n",
      "Ground truth: \tChart View - The line, area, and stacked area diagrams containing one or more data groups and series whose GroupSummaryKind property is set to skCount, skAverage, or skSum ignore the epdmGap option set to the diagram's EmptyPointsDisplayMode property\n",
      "\n",
      "Decoded sentence: BoottropControle - The \"Type 'DevExpress.Wes.Wer.Werter.Werter.Werter.Werter property is the \" anderer of the \" anderer of the \" anderer of the \" anderer of the \" anderer of the \" anderer of the \" anderer of the \" are the \" are serter on the \" are serte\n",
      "None\n",
      "Epoch 5/50\n",
      "30/30 [==============================] - 277s 9s/step - loss: 1.7451 - acc: 0.4173 - val_loss: 0.5762 - val_acc: 0.0803\n",
      "-\n",
      "Input sentence: For green series only exists values for month 1-3.  Have set already DiagramLine.EmptyPointsDisplayMode := epdmGap .  I don't know how to suppress drawing  the rest of this series.\n",
      "Ground truth: \tChart View - The line, area, and stacked area diagrams containing one or more data groups and series whose GroupSummaryKind property is set to skCount, skAverage, or skSum ignore the epdmGap option set to the diagram's EmptyPointsDisplayMode property\n",
      "\n",
      "Decoded sentence: DevExpress - The \"The \"Unable to sertion and the and the and the and the and the and the and the and the and the and the and the and the and the and the and the and the and the serter of the \" and the \" and the \" and the \" and the \" and the \" and the \" \n",
      "None\n",
      "Epoch 6/50\n",
      "30/30 [==============================] - 276s 9s/step - loss: 1.6181 - acc: 0.4416 - val_loss: 0.5903 - val_acc: 0.0759\n",
      "-\n",
      "Input sentence: For green series only exists values for month 1-3.  Have set already DiagramLine.EmptyPointsDisplayMode := epdmGap .  I don't know how to suppress drawing  the rest of this series.\n",
      "Ground truth: \tChart View - The line, area, and stacked area diagrams containing one or more data groups and series whose GroupSummaryKind property is set to skCount, skAverage, or skSum ignore the epdmGap option set to the diagram's EmptyPointsDisplayMode property\n",
      "\n",
      "Decoded sentence: DevExpress - The \"Canter on and the and the and the and the and the and the and the and the and the and the and the View, the Viewsender or or on and the View, the Viewsender property is ser on and the View, the Viewsender property is ser on and the Vie\n",
      "None\n",
      "Epoch 7/50\n",
      "30/30 [==============================] - 275s 9s/step - loss: 1.5876 - acc: 0.4365 - val_loss: 0.5915 - val_acc: 0.0775\n",
      "-\n",
      "Input sentence: For green series only exists values for month 1-3.  Have set already DiagramLine.EmptyPointsDisplayMode := epdmGap .  I don't know how to suppress drawing  the rest of this series.\n",
      "Ground truth: \tChart View - The line, area, and stacked area diagrams containing one or more data groups and series whose GroupSummaryKind property is set to skCount, skAverage, or skSum ignore the epdmGap option set to the diagram's EmptyPointsDisplayMode property\n",
      "\n",
      "Decoded sentence: ASPxGridView - The \"Unable to canter in the and the the property in the property in the property is set the property is set the property is set to the property is set to the property is set to the property is set to the property is set to the property i\n",
      "None\n",
      "Epoch 8/50\n",
      "30/30 [==============================] - 277s 9s/step - loss: 1.7069 - acc: 0.3877 - val_loss: 0.5676 - val_acc: 0.0817\n",
      "-\n",
      "Input sentence: For green series only exists values for month 1-3.  Have set already DiagramLine.EmptyPointsDisplayMode := epdmGap .  I don't know how to suppress drawing  the rest of this series.\n",
      "Ground truth: \tChart View - The line, area, and stacked area diagrams containing one or more data groups and series whose GroupSummaryKind property is set to skCount, skAverage, or skSum ignore the epdmGap option set to the diagram's EmptyPointsDisplayMode property\n",
      "\n",
      "Decoded sentence: ASPxGridView - The \"Inder and the and the and the and the and the and the and the and the and the and the and the and the and the and the and the and the and the and the and the and the and the and the and the and the and the and the and the and the and\n",
      "None\n",
      "Epoch 9/50\n",
      "30/30 [==============================] - 276s 9s/step - loss: 1.6397 - acc: 0.3971 - val_loss: 0.5515 - val_acc: 0.0829\n",
      "-\n",
      "Input sentence: For green series only exists values for month 1-3.  Have set already DiagramLine.EmptyPointsDisplayMode := epdmGap .  I don't know how to suppress drawing  the rest of this series.\n",
      "Ground truth: \tChart View - The line, area, and stacked area diagrams containing one or more data groups and series whose GroupSummaryKind property is set to skCount, skAverage, or skSum ignore the epdmGap option set to the diagram's EmptyPointsDisplayMode property\n",
      "\n",
      "Decoded sentence: ASPxGridView - The \"Inver in the \" property in the \" property in the \" property in the \" property is set to the \" property is set to the \" property is set to the \" property is set to the \" property is set to the \" property is set to the \" property is se\n",
      "None\n",
      "Epoch 10/50\n",
      "30/30 [==============================] - 273s 9s/step - loss: 1.5694 - acc: 0.4156 - val_loss: 0.5324 - val_acc: 0.0851\n",
      "-\n",
      "Input sentence: For green series only exists values for month 1-3.  Have set already DiagramLine.EmptyPointsDisplayMode := epdmGap .  I don't know how to suppress drawing  the rest of this series.\n",
      "Ground truth: \tChart View - The line, area, and stacked area diagrams containing one or more data groups and series whose GroupSummaryKind property is set to skCount, skAverage, or skSum ignore the epdmGap option set to the diagram's EmptyPointsDisplayMode property\n",
      "\n",
      "Decoded sentence: ASPxGridView - The \"Ander control in the \"file and the \"file and the \"file and the \"file and the \"file and the \"file and the \"file and the \"file ard the \"file ard the \"file ard the \"file ard the \"file ard the \"file ard the \"file ard the \"file ard the \"f\n",
      "None\n",
      "Epoch 11/50\n"
     ]
    },
    {
     "name": "stdout",
     "output_type": "stream",
     "text": [
      "30/30 [==============================] - 273s 9s/step - loss: 1.4313 - acc: 0.4436 - val_loss: 0.5304 - val_acc: 0.0840\n",
      "-\n",
      "Input sentence: For green series only exists values for month 1-3.  Have set already DiagramLine.EmptyPointsDisplayMode := epdmGap .  I don't know how to suppress drawing  the rest of this series.\n",
      "Ground truth: \tChart View - The line, area, and stacked area diagrams containing one or more data groups and series whose GroupSummaryKind property is set to skCount, skAverage, or skSum ignore the epdmGap option set to the diagram's EmptyPointsDisplayMode property\n",
      "\n",
      "Decoded sentence: ASPxGridView - The CommandDeselectAllOnAllOnAllOnAllOnAllOnAllOnAllOnAllOnAllOnAllOnAllOnAllOnAllOnAllOnAllOnAllOnAllOnAllOnAllOnAllOnAllOnAllOnAllOnAllOnAllOnAllOnAllOnAllOnAllOnAllOnAllOnAllOnAllOnAllOnAllOnAllOnAllOnAllOnAllOnAllOnAllOnAllOnAllOnAllO\n",
      "None\n",
      "Epoch 12/50\n",
      "30/30 [==============================] - 272s 9s/step - loss: 1.2982 - acc: 0.4725 - val_loss: 0.5501 - val_acc: 0.0838\n",
      "-\n",
      "Input sentence: For green series only exists values for month 1-3.  Have set already DiagramLine.EmptyPointsDisplayMode := epdmGap .  I don't know how to suppress drawing  the rest of this series.\n",
      "Ground truth: \tChart View - The line, area, and stacked area diagrams containing one or more data groups and series whose GroupSummaryKind property is set to skCount, skAverage, or skSum ignore the epdmGap option set to the diagram's EmptyPointsDisplayMode property\n",
      "\n",
      "Decoded sentence: ASPxGridView - The CommandSelectAllOnPage, CommandDeselectAllOnAllPages and CommandDeselectAllOnAllPages and CommandDeselectAllOnPage, CommandSelectAllOnPage, CommandSelectAllOnPage, CommandSelectAllOnPage, CommandSelectAllOnPage, CommandSelectAllOnPage\n",
      "None\n",
      "Epoch 13/50\n",
      "30/30 [==============================] - 275s 9s/step - loss: 1.3353 - acc: 0.4576 - val_loss: 0.5783 - val_acc: 0.0821\n",
      "-\n",
      "Input sentence: For green series only exists values for month 1-3.  Have set already DiagramLine.EmptyPointsDisplayMode := epdmGap .  I don't know how to suppress drawing  the rest of this series.\n",
      "Ground truth: \tChart View - The line, area, and stacked area diagrams containing one or more data groups and series whose GroupSummaryKind property is set to skCount, skAverage, or skSum ignore the epdmGap option set to the diagram's EmptyPointsDisplayMode property\n",
      "\n",
      "Decoded sentence: ASPxGridView - The CommandSelectAllOnPage, CommandDeselectAllOnAllPages and CommandDeselectAllOnAllPages and CommandDeselectAllOnPage, CommandSelectAllOnPage, CommandSelectAllOnPage, CommandSelectAllOnPage, CommandSelectAllOnPage, CommandSelectAllOnPage\n",
      "None\n",
      "Epoch 14/50\n",
      "30/30 [==============================] - 276s 9s/step - loss: 1.3296 - acc: 0.4563 - val_loss: 0.5793 - val_acc: 0.0839\n",
      "-\n",
      "Input sentence: For green series only exists values for month 1-3.  Have set already DiagramLine.EmptyPointsDisplayMode := epdmGap .  I don't know how to suppress drawing  the rest of this series.\n",
      "Ground truth: \tChart View - The line, area, and stacked area diagrams containing one or more data groups and series whose GroupSummaryKind property is set to skCount, skAverage, or skSum ignore the epdmGap option set to the diagram's EmptyPointsDisplayMode property\n",
      "\n",
      "Decoded sentence: ASPxGridView - The CommandSelectAllOnPage, CommandDeselectAllOnAllPages properties heruse control in the ASPxGridViewTextSettings property is set the ASPxGridViewTextSettings prropring is set the ASPxGridViewTextSettings prropring is set the ASPxGridVie\n",
      "None\n",
      "Epoch 15/50\n",
      "30/30 [==============================] - 274s 9s/step - loss: 1.2827 - acc: 0.4640 - val_loss: 0.5761 - val_acc: 0.0861\n",
      "-\n",
      "Input sentence: For green series only exists values for month 1-3.  Have set already DiagramLine.EmptyPointsDisplayMode := epdmGap .  I don't know how to suppress drawing  the rest of this series.\n",
      "Ground truth: \tChart View - The line, area, and stacked area diagrams containing one or more data groups and series whose GroupSummaryKind property is set to skCount, skAverage, or skSum ignore the epdmGap option set to the diagram's EmptyPointsDisplayMode property\n",
      "\n",
      "Decoded sentence: ASPxGridView - The CommandSelectAllOnPage, CommandDeselectAllOnAllPages and CommandDeselectAllOnAllPages and CommandDeselectAllOnAllPages and CommandDeselectAllOnAllPages and CommandDeselectAllOnAllPages and CommandDeselectAllOnAllPages and CommandDesel\n",
      "None\n",
      "Epoch 16/50\n",
      "30/30 [==============================] - 275s 9s/step - loss: 1.3388 - acc: 0.4414 - val_loss: 0.5597 - val_acc: 0.0874\n",
      "-\n",
      "Input sentence: For green series only exists values for month 1-3.  Have set already DiagramLine.EmptyPointsDisplayMode := epdmGap .  I don't know how to suppress drawing  the rest of this series.\n",
      "Ground truth: \tChart View - The line, area, and stacked area diagrams containing one or more data groups and series whose GroupSummaryKind property is set to skCount, skAverage, or skSum ignore the epdmGap option set to the diagram's EmptyPointsDisplayMode property\n",
      "\n",
      "Decoded sentence: ASPxGridView - The \"Unable to the \" control in the canded in the canded in the canded in the ASPxGridViewTextSettings property is set to the ASPxGridViewTextSettings property is set to the ASPxGridViewTextSettings property is set to the ASPxGridView and\n",
      "None\n",
      "Epoch 17/50\n",
      "30/30 [==============================] - 280s 9s/step - loss: 1.3566 - acc: 0.4266 - val_loss: 0.5399 - val_acc: 0.0901\n",
      "-\n",
      "Input sentence: For green series only exists values for month 1-3.  Have set already DiagramLine.EmptyPointsDisplayMode := epdmGap .  I don't know how to suppress drawing  the rest of this series.\n",
      "Ground truth: \tChart View - The line, area, and stacked area diagrams containing one or more data groups and series whose GroupSummaryKind property is set to skCount, skAverage, or skSum ignore the epdmGap option set to the diagram's EmptyPointsDisplayMode property\n",
      "\n",
      "Decoded sentence: The disable to canter in the grid in the \"Unable to the \"Unable to the the beateron the selume in the ASPxGridViewTextSettings property is set to the ASPxGridViewTextSettings property is set to the ASPxGridViewTextSettings property is set to the ASPxGri\n",
      "None\n",
      "Epoch 18/50\n",
      "30/30 [==============================] - 272s 9s/step - loss: 1.2010 - acc: 0.4678 - val_loss: 0.5229 - val_acc: 0.0929\n",
      "-\n",
      "Input sentence: For green series only exists values for month 1-3.  Have set already DiagramLine.EmptyPointsDisplayMode := epdmGap .  I don't know how to suppress drawing  the rest of this series.\n",
      "Ground truth: \tChart View - The line, area, and stacked area diagrams containing one or more data groups and series whose GroupSummaryKind property is set to skCount, skAverage, or skSum ignore the epdmGap option set to the diagram's EmptyPointsDisplayMode property\n",
      "\n",
      "Decoded sentence: ASPxGridView - The CommandSelectAllOnPage, CommandDeselectAllOnPage, CommandDeselectAllOnAllPages and CommandDeselectAllOnAllPages and CommandSelectAllOnAllPages and CommandSelectAllOnAllPages and CommandSelectAllOnAllPages and CommandSelectAllOnAllPage\n",
      "None\n",
      "Epoch 19/50\n",
      "30/30 [==============================] - 273s 9s/step - loss: 1.1624 - acc: 0.4741 - val_loss: 0.5364 - val_acc: 0.0937\n",
      "-\n",
      "Input sentence: For green series only exists values for month 1-3.  Have set already DiagramLine.EmptyPointsDisplayMode := epdmGap .  I don't know how to suppress drawing  the rest of this series.\n",
      "Ground truth: \tChart View - The line, area, and stacked area diagrams containing one or more data groups and series whose GroupSummaryKind property is set to skCount, skAverage, or skSum ignore the epdmGap option set to the diagram's EmptyPointsDisplayMode property\n",
      "\n",
      "Decoded sentence: ASPxGridView - The CommandSelectAllOnPage, CommandDeselectAllOnAllPages and CommandDeselectAllOnAllPages and CommandDeselectAllOnAllPages properties have be?ome an andethen the ASPxGridViewTextSettings property is set to the ASPxGridViewTextSettings pro\n",
      "None\n",
      "Epoch 20/50\n",
      "30/30 [==============================] - 272s 9s/step - loss: 1.2568 - acc: 0.4497 - val_loss: 0.5389 - val_acc: 0.0922\n",
      "-\n",
      "Input sentence: For green series only exists values for month 1-3.  Have set already DiagramLine.EmptyPointsDisplayMode := epdmGap .  I don't know how to suppress drawing  the rest of this series.\n",
      "Ground truth: \tChart View - The line, area, and stacked area diagrams containing one or more data groups and series whose GroupSummaryKind property is set to skCount, skAverage, or skSum ignore the epdmGap option set to the diagram's EmptyPointsDisplayMode property\n",
      "\n",
      "Decoded sentence: ASPxGridView - The \"Unable to the the paine and the \"Aute in the \"Aute in the \"Aute in the \"Aute in the \"Aute in the \"Aute in the \"Aute in the \"Aute in the \"Aute in the \"Aute in the \"Aute in the \"Aute in the \"Aute in the \"Auto\" error is the property ser\n",
      "None\n",
      "Epoch 21/50\n"
     ]
    },
    {
     "name": "stdout",
     "output_type": "stream",
     "text": [
      "30/30 [==============================] - 272s 9s/step - loss: 1.2378 - acc: 0.4456 - val_loss: 0.5477 - val_acc: 0.0906\n",
      "-\n",
      "Input sentence: For green series only exists values for month 1-3.  Have set already DiagramLine.EmptyPointsDisplayMode := epdmGap .  I don't know how to suppress drawing  the rest of this series.\n",
      "Ground truth: \tChart View - The line, area, and stacked area diagrams containing one or more data groups and series whose GroupSummaryKind property is set to skCount, skAverage, or skSum ignore the epdmGap option set to the diagram's EmptyPointsDisplayMode property\n",
      "\n",
      "Decoded sentence: ASPxFileManager - The \"Unable to the porte is set to the \"The \"Aute in the \"Tre the \"The \"Aute in the \"Tre the \"Aute in the server or property is set to the \"Aute in the \"Aute in the \"Aute in the \"Aute in the \"her mote is sht property is set to a proper\n",
      "None\n",
      "Epoch 22/50\n",
      "30/30 [==============================] - 273s 9s/step - loss: 1.1088 - acc: 0.4864 - val_loss: 0.5440 - val_acc: 0.0926\n",
      "-\n",
      "Input sentence: For green series only exists values for month 1-3.  Have set already DiagramLine.EmptyPointsDisplayMode := epdmGap .  I don't know how to suppress drawing  the rest of this series.\n",
      "Ground truth: \tChart View - The line, area, and stacked area diagrams containing one or more data groups and series whose GroupSummaryKind property is set to skCount, skAverage, or skSum ignore the epdmGap option set to the diagram's EmptyPointsDisplayMode property\n",
      "\n",
      "Decoded sentence: ASPxGridView - The \"Unable to set to unabler is and the file and the nom and the \"Aullore in the server is settor is shtop is settor is shtop is settor is shtop is settor is shtop is settor is shtop is settor is shtop is shown is shtop is shown is shtop\n",
      "None\n",
      "Epoch 23/50\n",
      "30/30 [==============================] - 272s 9s/step - loss: 1.1770 - acc: 0.4634 - val_loss: 0.5425 - val_acc: 0.0923\n",
      "-\n",
      "Input sentence: For green series only exists values for month 1-3.  Have set already DiagramLine.EmptyPointsDisplayMode := epdmGap .  I don't know how to suppress drawing  the rest of this series.\n",
      "Ground truth: \tChart View - The line, area, and stacked area diagrams containing one or more data groups and series whose GroupSummaryKind property is set to skCount, skAverage, or skSum ignore the epdmGap option set to the diagram's EmptyPointsDisplayMode property\n",
      "\n",
      "Decoded sentence: ASPxGridView - The \"Unable to get to the \"Unable to get to the \"Unable to get to the \"Unable to get to the server is set to an is the server\n",
      "\n",
      "None\n",
      "Epoch 24/50\n",
      "30/30 [==============================] - 276s 9s/step - loss: 1.2513 - acc: 0.4333 - val_loss: 0.5213 - val_acc: 0.0956\n",
      "-\n",
      "Input sentence: For green series only exists values for month 1-3.  Have set already DiagramLine.EmptyPointsDisplayMode := epdmGap .  I don't know how to suppress drawing  the rest of this series.\n",
      "Ground truth: \tChart View - The line, area, and stacked area diagrams containing one or more data groups and series whose GroupSummaryKind property is set to skCount, skAverage, or skSum ignore the epdmGap option set to the diagram's EmptyPointsDisplayMode property\n",
      "\n",
      "Decoded sentence: Scaller is a control in the tor control in the the tor control in the property is set to the DevExpress.Ontares.Ontare\n",
      "\n",
      "None\n",
      "Epoch 25/50\n",
      "30/30 [==============================] - 295s 10s/step - loss: 1.2354 - acc: 0.4343 - val_loss: 0.5052 - val_acc: 0.0975\n",
      "-\n",
      "Input sentence: For green series only exists values for month 1-3.  Have set already DiagramLine.EmptyPointsDisplayMode := epdmGap .  I don't know how to suppress drawing  the rest of this series.\n",
      "Ground truth: \tChart View - The line, area, and stacked area diagrams containing one or more data groups and series whose GroupSummaryKind property is set to skCount, skAverage, or skSum ignore the epdmGap option set to the diagram's EmptyPointsDisplayMode property\n",
      "\n",
      "Decoded sentence: Scaring - The \"Condition and the Table to cast of and the \"Condlor and the DevExpress.XtraRistExpless.XtraReItem.Model.Model.Model.Model.Model.Buted.Web.Boress.Xtroperty is set the Sertire\n",
      "\n",
      "None\n",
      "Epoch 26/50\n",
      "30/30 [==============================] - 276s 9s/step - loss: 1.2243 - acc: 0.4323 - val_loss: 0.5028 - val_acc: 0.0982\n",
      "-\n",
      "Input sentence: For green series only exists values for month 1-3.  Have set already DiagramLine.EmptyPointsDisplayMode := epdmGap .  I don't know how to suppress drawing  the rest of this series.\n",
      "Ground truth: \tChart View - The line, area, and stacked area diagrams containing one or more data groups and series whose GroupSummaryKind property is set to skCount, skAverage, or skSum ignore the epdmGap option set to the diagram's EmptyPointsDisplayMode property\n",
      "\n",
      "Decoded sentence: ASPxGridView - The \"Control in the serol is the serore control in the serore control in the serore control in the serore is not and the Seluen method the Seluen method is set to the Sesting and the Serocel.Burowizard is and the Servire is and the Servir\n",
      "None\n",
      "Epoch 27/50\n",
      "30/30 [==============================] - 288s 10s/step - loss: 1.1795 - acc: 0.4389 - val_loss: 0.4969 - val_acc: 0.0990\n",
      "-\n",
      "Input sentence: For green series only exists values for month 1-3.  Have set already DiagramLine.EmptyPointsDisplayMode := epdmGap .  I don't know how to suppress drawing  the rest of this series.\n",
      "Ground truth: \tChart View - The line, area, and stacked area diagrams containing one or more data groups and series whose GroupSummaryKind property is set to skCount, skAverage, or skSum ignore the epdmGap option set to the diagram's EmptyPointsDisplayMode property\n",
      "\n",
      "Decoded sentence: ASPxGridView - The \"Cannot report control of the server or an and the adit roperty is not and the Seluen method is not and the Seluen method is not a property is set to the Settings bethed the Settings bot and the Settings bethed the Settings bethed the\n",
      "None\n",
      "Epoch 28/50\n",
      "30/30 [==============================] - 276s 9s/step - loss: 1.1405 - acc: 0.4417 - val_loss: 0.4968 - val_acc: 0.1022\n",
      "-\n",
      "Input sentence: For green series only exists values for month 1-3.  Have set already DiagramLine.EmptyPointsDisplayMode := epdmGap .  I don't know how to suppress drawing  the rest of this series.\n",
      "Ground truth: \tChart View - The line, area, and stacked area diagrams containing one or more data groups and series whose GroupSummaryKind property is set to skCount, skAverage, or skSum ignore the epdmGap option set to the diagram's EmptyPointsDisplayMode property\n",
      "\n",
      "Decoded sentence: ASPxGridView - The \"Cannot read when the displayed in the diston and the Selued in the diston and the Selued in the diston and the Selued is not a page and the Settings bothat of the Settingserertid Spored is not and the Settingsereated in the Settingse\n",
      "None\n",
      "Epoch 29/50\n",
      "30/30 [==============================] - 277s 9s/step - loss: 1.1279 - acc: 0.4436 - val_loss: 0.4988 - val_acc: 0.1008\n",
      "-\n",
      "Input sentence: For green series only exists values for month 1-3.  Have set already DiagramLine.EmptyPointsDisplayMode := epdmGap .  I don't know how to suppress drawing  the rest of this series.\n",
      "Ground truth: \tChart View - The line, area, and stacked area diagrams containing one or more data groups and series whose GroupSummaryKind property is set to skCount, skAverage, or skSum ignore the epdmGap option set to the diagram's EmptyPointsDisplayMode property\n",
      "\n",
      "Decoded sentence: ASPxGridView - The \"A control in the server a collbation is the server a collbation is the server a collbation is the server a collbation is the server and the Settings and the Settings and the Settings and the Settings and the Settings and the Settings\n",
      "None\n",
      "Epoch 30/50\n",
      "30/30 [==============================] - 279s 9s/step - loss: 1.1126 - acc: 0.4454 - val_loss: 0.4953 - val_acc: 0.1019\n",
      "-\n",
      "Input sentence: For green series only exists values for month 1-3.  Have set already DiagramLine.EmptyPointsDisplayMode := epdmGap .  I don't know how to suppress drawing  the rest of this series.\n",
      "Ground truth: \tChart View - The line, area, and stacked area diagrams containing one or more data groups and series whose GroupSummaryKind property is set to skCount, skAverage, or skSum ignore the epdmGap option set to the diagram's EmptyPointsDisplayMode property\n",
      "\n",
      "Decoded sentence: The \"The data column when the disten and the DataView the DataView the DataView the DataView the DataView the DataView the DataView the DataView the DataView the DataView the DataView property is set to the Settings and The DataScrittors.WerverreyseateS\n",
      "None\n",
      "Epoch 31/50\n"
     ]
    },
    {
     "name": "stdout",
     "output_type": "stream",
     "text": [
      "30/30 [==============================] - 275s 9s/step - loss: 1.0566 - acc: 0.4540 - val_loss: 0.4857 - val_acc: 0.1051\n",
      "-\n",
      "Input sentence: For green series only exists values for month 1-3.  Have set already DiagramLine.EmptyPointsDisplayMode := epdmGap .  I don't know how to suppress drawing  the rest of this series.\n",
      "Ground truth: \tChart View - The line, area, and stacked area diagrams containing one or more data groups and series whose GroupSummaryKind property is set to skCount, skAverage, or skSum ignore the epdmGap option set to the diagram's EmptyPointsDisplayMode property\n",
      "\n",
      "Decoded sentence: ASPxGridView - The \"Unable to called in the server to the DataScurter are control of the server to the DataScurter are control of the server the DataScurter are in the server the DataScurter and the DataScurter and the DataScurter and the DataScurter an\n",
      "None\n",
      "Epoch 32/50\n",
      "30/30 [==============================] - 277s 9s/step - loss: 1.0443 - acc: 0.4542 - val_loss: 0.4745 - val_acc: 0.1081\n",
      "-\n",
      "Input sentence: For green series only exists values for month 1-3.  Have set already DiagramLine.EmptyPointsDisplayMode := epdmGap .  I don't know how to suppress drawing  the rest of this series.\n",
      "Ground truth: \tChart View - The line, area, and stacked area diagrams containing one or more data groups and series whose GroupSummaryKind property is set to skCount, skAverage, or skSum ignore the epdmGap option set to the diagram's EmptyPointsDisplayMode property\n",
      "\n",
      "Decoded sentence: ASPxGridView - The \"Cannot of the contion is not column with the Request is not cell and the View's set to ingute is is is and the server the server method\n",
      "\n",
      "None\n",
      "Epoch 33/50\n",
      "30/30 [==============================] - 270s 9s/step - loss: 1.0475 - acc: 0.4529 - val_loss: 0.5016 - val_acc: 0.1030\n",
      "-\n",
      "Input sentence: For green series only exists values for month 1-3.  Have set already DiagramLine.EmptyPointsDisplayMode := epdmGap .  I don't know how to suppress drawing  the rest of this series.\n",
      "Ground truth: \tChart View - The line, area, and stacked area diagrams containing one or more data groups and series whose GroupSummaryKind property is set to skCount, skAverage, or skSum ignore the epdmGap option set to the diagram's EmptyPointsDisplayMode property\n",
      "\n",
      "Decoded sentence: ASPxGridView - The \"A property is not for a control in the control is not an and the Containstay using the control is not an ander and the Control and the server the server the server the server the server the server\n",
      "\n",
      "None\n",
      "Epoch 34/50\n",
      "30/30 [==============================] - 272s 9s/step - loss: 1.0526 - acc: 0.4540 - val_loss: 0.4871 - val_acc: 0.1056\n",
      "-\n",
      "Input sentence: For green series only exists values for month 1-3.  Have set already DiagramLine.EmptyPointsDisplayMode := epdmGap .  I don't know how to suppress drawing  the rest of this series.\n",
      "Ground truth: \tChart View - The line, area, and stacked area diagrams containing one or more data groups and series whose GroupSummaryKind property is set to skCount, skAverage, or skSum ignore the epdmGap option set to the diagram's EmptyPointsDisplayMode property\n",
      "\n",
      "Decoded sentence: ASPxGridView - The \"A property is not for a callback when an in the confiel when an incorrect is not for a callback when a page is and the Strings and the Strings and the Strings and the Strings and the Strings and the Strings and the Strings and the St\n",
      "None\n",
      "Epoch 35/50\n",
      "30/30 [==============================] - 274s 9s/step - loss: 1.0849 - acc: 0.4452 - val_loss: 0.4867 - val_acc: 0.1061\n",
      "-\n",
      "Input sentence: For green series only exists values for month 1-3.  Have set already DiagramLine.EmptyPointsDisplayMode := epdmGap .  I don't know how to suppress drawing  the rest of this series.\n",
      "Ground truth: \tChart View - The line, area, and stacked area diagrams containing one or more data groups and series whose GroupSummaryKind property is set to skCount, skAverage, or skSum ignore the epdmGap option set to the diagram's EmptyPointsDisplayMode property\n",
      "\n",
      "Decoded sentence: ASPxGridView - The \"A property is not shown when the server the server the report consertion is not shown when the server the server the resorver is a to the Selteres is not server the Selteres and the Strings and the Settings and stown when the Strings\n",
      "None\n",
      "Epoch 36/50\n",
      "30/30 [==============================] - 277s 9s/step - loss: 1.0511 - acc: 0.4455 - val_loss: 0.4880 - val_acc: 0.1057\n",
      "-\n",
      "Input sentence: For green series only exists values for month 1-3.  Have set already DiagramLine.EmptyPointsDisplayMode := epdmGap .  I don't know how to suppress drawing  the rest of this series.\n",
      "Ground truth: \tChart View - The line, area, and stacked area diagrams containing one or more data groups and series whose GroupSummaryKind property is set to skCount, skAverage, or skSum ignore the epdmGap option set to the diagram's EmptyPointsDisplayMode property\n",
      "\n",
      "Decoded sentence: ASPxGridView - The \"Chenter are column when the column with the Data and property is not for the column with the DataSelut of the control is and the Selvered and the Selvered and the Selteres and Stree is mode\n",
      "\n",
      "None\n",
      "Epoch 37/50\n",
      "30/30 [==============================] - 288s 10s/step - loss: 1.0302 - acc: 0.4485 - val_loss: 0.4815 - val_acc: 0.1091\n",
      "-\n",
      "Input sentence: For green series only exists values for month 1-3.  Have set already DiagramLine.EmptyPointsDisplayMode := epdmGap .  I don't know how to suppress drawing  the rest of this series.\n",
      "Ground truth: \tChart View - The line, area, and stacked area diagrams containing one or more data groups and series whose GroupSummaryKind property is set to skCount, skAverage, or skSum ignore the epdmGap option set to the diagram's EmptyPointsDisplayMode property\n",
      "\n",
      "Decoded sentence: ASPxGridView - The \"The \"Unable to 'System.Detais and ShowPastentParent and the content of the correston is changed an experting a callback when the Sestem.Detais and ShowPaseCundities.Stressereres and ShowPase\n",
      "\n",
      "None\n",
      "Epoch 38/50\n",
      "30/30 [==============================] - 276s 9s/step - loss: 0.9920 - acc: 0.4580 - val_loss: 0.4819 - val_acc: 0.1083\n",
      "-\n",
      "Input sentence: For green series only exists values for month 1-3.  Have set already DiagramLine.EmptyPointsDisplayMode := epdmGap .  I don't know how to suppress drawing  the rest of this series.\n",
      "Ground truth: \tChart View - The line, area, and stacked area diagrams containing one or more data groups and series whose GroupSummaryKind property is set to skCount, skAverage, or skSum ignore the epdmGap option set to the diagram's EmptyPointsDisplayMode property\n",
      "\n",
      "Decoded sentence: ASPxGridView - The \"Unable to called and the content of the correction is correctly the correction is correctly the column when the DetailVale is set to tree is set to tree is set to tree is set to tree is set to tree is set to tree is set to tree is se\n",
      "None\n",
      "Epoch 39/50\n",
      "30/30 [==============================] - 283s 9s/step - loss: 0.8902 - acc: 0.4883 - val_loss: 0.4796 - val_acc: 0.1086\n",
      "-\n",
      "Input sentence: For green series only exists values for month 1-3.  Have set already DiagramLine.EmptyPointsDisplayMode := epdmGap .  I don't know how to suppress drawing  the rest of this series.\n",
      "Ground truth: \tChart View - The line, area, and stacked area diagrams containing one or more data groups and series whose GroupSummaryKind property is set to skCount, skAverage, or skSum ignore the epdmGap option set to the diagram's EmptyPointsDisplayMode property\n",
      "\n",
      "Decoded sentence: ASPxHtmlEditor - The \"Uncaught TypeError: Cannot read property '00'\" error occurs on an attempt to the service XPObjectType, ModuleInfo cestaing the service set to the design is set to select\n",
      "\n",
      "None\n",
      "Epoch 40/50\n",
      "16/30 [===============>..............] - ETA: 3:55 - loss: 0.8674 - acc: 0.4934"
     ]
    },
    {
     "ename": "KeyboardInterrupt",
     "evalue": "",
     "output_type": "error",
     "traceback": [
      "\u001b[1;31m---------------------------------------------------------------------------\u001b[0m",
      "\u001b[1;31mKeyboardInterrupt\u001b[0m                         Traceback (most recent call last)",
      "\u001b[1;32m<ipython-input-32-3854b81dbb65>\u001b[0m in \u001b[0;36m<module>\u001b[1;34m()\u001b[0m\n\u001b[0;32m      4\u001b[0m                     \u001b[0mvalidation_data\u001b[0m\u001b[1;33m=\u001b[0m\u001b[0mvalid_generator\u001b[0m\u001b[1;33m,\u001b[0m\u001b[1;33m\u001b[0m\u001b[0m\n\u001b[0;32m      5\u001b[0m                     \u001b[0mvalidation_steps\u001b[0m\u001b[1;33m=\u001b[0m\u001b[1;36m15\u001b[0m\u001b[1;33m,\u001b[0m\u001b[1;33m\u001b[0m\u001b[0m\n\u001b[1;32m----> 6\u001b[1;33m                     callbacks=[checkpoint, tbCallBack])\n\u001b[0m",
      "\u001b[1;32m~\\Anaconda3\\lib\\site-packages\\keras\\legacy\\interfaces.py\u001b[0m in \u001b[0;36mwrapper\u001b[1;34m(*args, **kwargs)\u001b[0m\n\u001b[0;32m     89\u001b[0m                 warnings.warn('Update your `' + object_name +\n\u001b[0;32m     90\u001b[0m                               '` call to the Keras 2 API: ' + signature, stacklevel=2)\n\u001b[1;32m---> 91\u001b[1;33m             \u001b[1;32mreturn\u001b[0m \u001b[0mfunc\u001b[0m\u001b[1;33m(\u001b[0m\u001b[1;33m*\u001b[0m\u001b[0margs\u001b[0m\u001b[1;33m,\u001b[0m \u001b[1;33m**\u001b[0m\u001b[0mkwargs\u001b[0m\u001b[1;33m)\u001b[0m\u001b[1;33m\u001b[0m\u001b[0m\n\u001b[0m\u001b[0;32m     92\u001b[0m         \u001b[0mwrapper\u001b[0m\u001b[1;33m.\u001b[0m\u001b[0m_original_function\u001b[0m \u001b[1;33m=\u001b[0m \u001b[0mfunc\u001b[0m\u001b[1;33m\u001b[0m\u001b[0m\n\u001b[0;32m     93\u001b[0m         \u001b[1;32mreturn\u001b[0m \u001b[0mwrapper\u001b[0m\u001b[1;33m\u001b[0m\u001b[0m\n",
      "\u001b[1;32m~\\Anaconda3\\lib\\site-packages\\keras\\engine\\training.py\u001b[0m in \u001b[0;36mfit_generator\u001b[1;34m(self, generator, steps_per_epoch, epochs, verbose, callbacks, validation_data, validation_steps, class_weight, max_queue_size, workers, use_multiprocessing, shuffle, initial_epoch)\u001b[0m\n\u001b[0;32m   1413\u001b[0m             \u001b[0muse_multiprocessing\u001b[0m\u001b[1;33m=\u001b[0m\u001b[0muse_multiprocessing\u001b[0m\u001b[1;33m,\u001b[0m\u001b[1;33m\u001b[0m\u001b[0m\n\u001b[0;32m   1414\u001b[0m             \u001b[0mshuffle\u001b[0m\u001b[1;33m=\u001b[0m\u001b[0mshuffle\u001b[0m\u001b[1;33m,\u001b[0m\u001b[1;33m\u001b[0m\u001b[0m\n\u001b[1;32m-> 1415\u001b[1;33m             initial_epoch=initial_epoch)\n\u001b[0m\u001b[0;32m   1416\u001b[0m \u001b[1;33m\u001b[0m\u001b[0m\n\u001b[0;32m   1417\u001b[0m     \u001b[1;33m@\u001b[0m\u001b[0minterfaces\u001b[0m\u001b[1;33m.\u001b[0m\u001b[0mlegacy_generator_methods_support\u001b[0m\u001b[1;33m\u001b[0m\u001b[0m\n",
      "\u001b[1;32m~\\Anaconda3\\lib\\site-packages\\keras\\engine\\training_generator.py\u001b[0m in \u001b[0;36mfit_generator\u001b[1;34m(model, generator, steps_per_epoch, epochs, verbose, callbacks, validation_data, validation_steps, class_weight, max_queue_size, workers, use_multiprocessing, shuffle, initial_epoch)\u001b[0m\n\u001b[0;32m    211\u001b[0m                 outs = model.train_on_batch(x, y,\n\u001b[0;32m    212\u001b[0m                                             \u001b[0msample_weight\u001b[0m\u001b[1;33m=\u001b[0m\u001b[0msample_weight\u001b[0m\u001b[1;33m,\u001b[0m\u001b[1;33m\u001b[0m\u001b[0m\n\u001b[1;32m--> 213\u001b[1;33m                                             class_weight=class_weight)\n\u001b[0m\u001b[0;32m    214\u001b[0m \u001b[1;33m\u001b[0m\u001b[0m\n\u001b[0;32m    215\u001b[0m                 \u001b[0mouts\u001b[0m \u001b[1;33m=\u001b[0m \u001b[0mto_list\u001b[0m\u001b[1;33m(\u001b[0m\u001b[0mouts\u001b[0m\u001b[1;33m)\u001b[0m\u001b[1;33m\u001b[0m\u001b[0m\n",
      "\u001b[1;32m~\\Anaconda3\\lib\\site-packages\\keras\\engine\\training.py\u001b[0m in \u001b[0;36mtrain_on_batch\u001b[1;34m(self, x, y, sample_weight, class_weight)\u001b[0m\n\u001b[0;32m   1213\u001b[0m             \u001b[0mins\u001b[0m \u001b[1;33m=\u001b[0m \u001b[0mx\u001b[0m \u001b[1;33m+\u001b[0m \u001b[0my\u001b[0m \u001b[1;33m+\u001b[0m \u001b[0msample_weights\u001b[0m\u001b[1;33m\u001b[0m\u001b[0m\n\u001b[0;32m   1214\u001b[0m         \u001b[0mself\u001b[0m\u001b[1;33m.\u001b[0m\u001b[0m_make_train_function\u001b[0m\u001b[1;33m(\u001b[0m\u001b[1;33m)\u001b[0m\u001b[1;33m\u001b[0m\u001b[0m\n\u001b[1;32m-> 1215\u001b[1;33m         \u001b[0moutputs\u001b[0m \u001b[1;33m=\u001b[0m \u001b[0mself\u001b[0m\u001b[1;33m.\u001b[0m\u001b[0mtrain_function\u001b[0m\u001b[1;33m(\u001b[0m\u001b[0mins\u001b[0m\u001b[1;33m)\u001b[0m\u001b[1;33m\u001b[0m\u001b[0m\n\u001b[0m\u001b[0;32m   1216\u001b[0m         \u001b[1;32mreturn\u001b[0m \u001b[0munpack_singleton\u001b[0m\u001b[1;33m(\u001b[0m\u001b[0moutputs\u001b[0m\u001b[1;33m)\u001b[0m\u001b[1;33m\u001b[0m\u001b[0m\n\u001b[0;32m   1217\u001b[0m \u001b[1;33m\u001b[0m\u001b[0m\n",
      "\u001b[1;32m~\\Anaconda3\\lib\\site-packages\\keras\\backend\\tensorflow_backend.py\u001b[0m in \u001b[0;36m__call__\u001b[1;34m(self, inputs)\u001b[0m\n\u001b[0;32m   2664\u001b[0m                 \u001b[1;32mreturn\u001b[0m \u001b[0mself\u001b[0m\u001b[1;33m.\u001b[0m\u001b[0m_legacy_call\u001b[0m\u001b[1;33m(\u001b[0m\u001b[0minputs\u001b[0m\u001b[1;33m)\u001b[0m\u001b[1;33m\u001b[0m\u001b[0m\n\u001b[0;32m   2665\u001b[0m \u001b[1;33m\u001b[0m\u001b[0m\n\u001b[1;32m-> 2666\u001b[1;33m             \u001b[1;32mreturn\u001b[0m \u001b[0mself\u001b[0m\u001b[1;33m.\u001b[0m\u001b[0m_call\u001b[0m\u001b[1;33m(\u001b[0m\u001b[0minputs\u001b[0m\u001b[1;33m)\u001b[0m\u001b[1;33m\u001b[0m\u001b[0m\n\u001b[0m\u001b[0;32m   2667\u001b[0m         \u001b[1;32melse\u001b[0m\u001b[1;33m:\u001b[0m\u001b[1;33m\u001b[0m\u001b[0m\n\u001b[0;32m   2668\u001b[0m             \u001b[1;32mif\u001b[0m \u001b[0mpy_any\u001b[0m\u001b[1;33m(\u001b[0m\u001b[0mis_tensor\u001b[0m\u001b[1;33m(\u001b[0m\u001b[0mx\u001b[0m\u001b[1;33m)\u001b[0m \u001b[1;32mfor\u001b[0m \u001b[0mx\u001b[0m \u001b[1;32min\u001b[0m \u001b[0minputs\u001b[0m\u001b[1;33m)\u001b[0m\u001b[1;33m:\u001b[0m\u001b[1;33m\u001b[0m\u001b[0m\n",
      "\u001b[1;32m~\\Anaconda3\\lib\\site-packages\\keras\\backend\\tensorflow_backend.py\u001b[0m in \u001b[0;36m_call\u001b[1;34m(self, inputs)\u001b[0m\n\u001b[0;32m   2634\u001b[0m                                 \u001b[0msymbol_vals\u001b[0m\u001b[1;33m,\u001b[0m\u001b[1;33m\u001b[0m\u001b[0m\n\u001b[0;32m   2635\u001b[0m                                 session)\n\u001b[1;32m-> 2636\u001b[1;33m         \u001b[0mfetched\u001b[0m \u001b[1;33m=\u001b[0m \u001b[0mself\u001b[0m\u001b[1;33m.\u001b[0m\u001b[0m_callable_fn\u001b[0m\u001b[1;33m(\u001b[0m\u001b[1;33m*\u001b[0m\u001b[0marray_vals\u001b[0m\u001b[1;33m)\u001b[0m\u001b[1;33m\u001b[0m\u001b[0m\n\u001b[0m\u001b[0;32m   2637\u001b[0m         \u001b[1;32mreturn\u001b[0m \u001b[0mfetched\u001b[0m\u001b[1;33m[\u001b[0m\u001b[1;33m:\u001b[0m\u001b[0mlen\u001b[0m\u001b[1;33m(\u001b[0m\u001b[0mself\u001b[0m\u001b[1;33m.\u001b[0m\u001b[0moutputs\u001b[0m\u001b[1;33m)\u001b[0m\u001b[1;33m]\u001b[0m\u001b[1;33m\u001b[0m\u001b[0m\n\u001b[0;32m   2638\u001b[0m \u001b[1;33m\u001b[0m\u001b[0m\n",
      "\u001b[1;32m~\\Anaconda3\\lib\\site-packages\\tensorflow\\python\\client\\session.py\u001b[0m in \u001b[0;36m__call__\u001b[1;34m(self, *args)\u001b[0m\n\u001b[0;32m   1449\u001b[0m         \u001b[1;32mif\u001b[0m \u001b[0mself\u001b[0m\u001b[1;33m.\u001b[0m\u001b[0m_session\u001b[0m\u001b[1;33m.\u001b[0m\u001b[0m_created_with_new_api\u001b[0m\u001b[1;33m:\u001b[0m\u001b[1;33m\u001b[0m\u001b[0m\n\u001b[0;32m   1450\u001b[0m           return tf_session.TF_SessionRunCallable(\n\u001b[1;32m-> 1451\u001b[1;33m               self._session._session, self._handle, args, status, None)\n\u001b[0m\u001b[0;32m   1452\u001b[0m         \u001b[1;32melse\u001b[0m\u001b[1;33m:\u001b[0m\u001b[1;33m\u001b[0m\u001b[0m\n\u001b[0;32m   1453\u001b[0m           return tf_session.TF_DeprecatedSessionRunCallable(\n",
      "\u001b[1;31mKeyboardInterrupt\u001b[0m: "
     ]
    }
   ],
   "source": [
    "history = model.fit_generator(train_generator,\n",
    "                    steps_per_epoch=30,\n",
    "                    epochs=50,\n",
    "                    validation_data=valid_generator,\n",
    "                    validation_steps=15,\n",
    "                    callbacks=[checkpoint, tbCallBack])"
   ]
  },
  {
   "cell_type": "code",
   "execution_count": null,
   "metadata": {},
   "outputs": [],
   "source": [
    "import matplotlib.pyplot as plt\n",
    "\n",
    "# # Plot training & validation accuracy values\n",
    "# plt.plot(history.history['acc'])\n",
    "# plt.plot(history.history['val_acc'])\n",
    "# plt.title('Model accuracy')\n",
    "# plt.ylabel('Accuracy')\n",
    "# plt.xlabel('Epoch')\n",
    "# plt.legend(['Train', 'Test'], loc='upper left')\n",
    "# plt.show()\n",
    "\n",
    "# Plot training & validation loss values\n",
    "plt.plot(history.history['loss'])\n",
    "plt.plot(history.history['val_loss'])\n",
    "plt.title('Model loss')\n",
    "plt.ylabel('Loss')\n",
    "plt.xlabel('Epoch')\n",
    "plt.legend(['Train', 'Test'], loc='upper left')\n",
    "plt.show()"
   ]
  },
  {
   "cell_type": "code",
   "execution_count": null,
   "metadata": {},
   "outputs": [],
   "source": []
  },
  {
   "cell_type": "code",
   "execution_count": null,
   "metadata": {},
   "outputs": [],
   "source": [
    "# examples = train_generator.__next__()\n",
    "# ([encoder_input_data, decoder_input_data], decoder_target_data) = examples\n",
    "# for i in range(10):    \n",
    "#     # Take one sequence (part of the training set)\n",
    "#     # for trying out decoding.\n",
    "    \n",
    "#     input_seq = encoder_input_data[i: i + 1]\n",
    "#     decoded_sentence = decode_sequence(input_seq)\n",
    "#     print('-')\n",
    "#     print('Input sentence:', paragraphs[train_generator.n + i])\n",
    "#     print('Decoded sentence:', decoded_sentence)"
   ]
  },
  {
   "cell_type": "code",
   "execution_count": null,
   "metadata": {},
   "outputs": [],
   "source": [
    "for i in range(100, 120):\n",
    "    predict(paragraphs[i], headlines[i])"
   ]
  },
  {
   "cell_type": "code",
   "execution_count": null,
   "metadata": {},
   "outputs": [],
   "source": []
  },
  {
   "cell_type": "code",
   "execution_count": null,
   "metadata": {},
   "outputs": [],
   "source": []
  },
  {
   "cell_type": "code",
   "execution_count": null,
   "metadata": {},
   "outputs": [],
   "source": []
  },
  {
   "cell_type": "code",
   "execution_count": null,
   "metadata": {},
   "outputs": [],
   "source": []
  }
 ],
 "metadata": {
  "kernelspec": {
   "display_name": "Python 3",
   "language": "python",
   "name": "python3"
  },
  "language_info": {
   "codemirror_mode": {
    "name": "ipython",
    "version": 3
   },
   "file_extension": ".py",
   "mimetype": "text/x-python",
   "name": "python",
   "nbconvert_exporter": "python",
   "pygments_lexer": "ipython3",
   "version": "3.6.6"
  }
 },
 "nbformat": 4,
 "nbformat_minor": 2
}
